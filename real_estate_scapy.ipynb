{
 "cells": [
  {
   "cell_type": "code",
   "execution_count": 55,
   "metadata": {
    "collapsed": true
   },
   "outputs": [],
   "source": [
    "import requests\n",
    "import time\n",
    "import numpy as np\n",
    "import pandas as pd\n",
    "import csv\n",
    "import bs4 as BeautifulSoup\n",
    "import lxml\n",
    "import re\n",
    "import json"
   ]
  },
  {
   "cell_type": "code",
   "execution_count": null,
   "metadata": {
    "collapsed": true
   },
   "outputs": [],
   "source": [
    "filename = 'real_estate_mel.csv'\n",
    "\n",
    "# This function write the elements into csv file.\n",
    "def write_result(listingId, desc, agency, price, dateSold, streetAddress, postcode, locality, latitude, longitude, landSizeValue, landSizeUnit, bedrooms, bathrooms, parkingSpaces, propertyType):\n",
    "    result = price + streetAddress + str(postcode) + \" is saved!\"\n",
    "    item = [listingId, desc, agency, price, dateSold, streetAddress, postcode, locality, latitude, longitude, landSizeValue, landSizeUnit, bedrooms, bathrooms, parkingSpaces, propertyType]\n",
    "    csvfile = open(filename, 'a')\n",
    "    writer = csv.writer(csvfile, dialect = 'excel', )\n",
    "    writer.writerow(item)\n",
    "    print(result)\n",
    "    csvfile.close()"
   ]
  },
  {
   "cell_type": "code",
   "execution_count": 63,
   "metadata": {
    "collapsed": false
   },
   "outputs": [],
   "source": [
    "post = pd.read_csv('mel_post.csv', header=None)"
   ]
  },
  {
   "cell_type": "code",
   "execution_count": 66,
   "metadata": {
    "collapsed": false
   },
   "outputs": [],
   "source": [
    "postcode = post.iloc[:,1].values"
   ]
  },
  {
   "cell_type": "code",
   "execution_count": 67,
   "metadata": {
    "collapsed": false
   },
   "outputs": [
    {
     "data": {
      "text/plain": [
       "array([3053, 3054, 3002, 3031, 3000, 3004, 3207, 3052, 3006, 3141, 3003,\n",
       "       3008, 3206, 3183, 3184, 3185, 3182, 3067, 3121, 3068, 3066, 3065,\n",
       "       3081, 3088, 3083, 3084, 3095, 3079, 3093, 3085, 3094, 3087, 3078,\n",
       "       3070, 3072, 3073, 3071, 3049, 3047, 3428, 3061, 3430, 3048, 3064,\n",
       "       3043, 3059, 3036, 3062, 3429, 3063, 3040, 3042, 3032, 3041, 3033,\n",
       "       3039, 3056, 3057, 3055, 3058, 3060, 3046, 3044, 3099, 3089, 3754,\n",
       "       3763, 3759, 3090, 3760, 3761, 3096, 3755, 3091, 3757, 3076, 3075,\n",
       "       3082, 3752, 3074, 3750, 3147, 3103, 3104, 3124, 3126, 3146, 3122,\n",
       "       3123, 3101, 3102, 3127, 3153, 3155, 3156, 3180, 3178, 3179, 3154,\n",
       "       3152, 3105, 3108, 3109, 3111, 3114, 3106, 3113, 3115, 3136, 3135,\n",
       "       3137, 3134, 3130, 3128, 3129, 3125, 3151, 3131, 3132, 3133, 3777,\n",
       "       3160, 3116, 3770, 3775, 3139, 3786, 3791, 3766, 3140, 3782, 3159,\n",
       "       3799, 3793, 3765, 3138, 3796, 3432, 3787, 3789, 3795, 3792, 3785,\n",
       "       3158, 3797, 3193, 3186, 3187, 3188, 3189, 3190, 3191, 3981, 3807,\n",
       "       3815, 3984, 3978, 3781, 3814, 3783, 3812, 3816, 3809, 3810, 3977,\n",
       "       3813, 3806, 3980, 3177, 3803, 3976, 3975, 3805, 3912, 3175, 3173,\n",
       "       3174, 3171, 3201, 3199, 3910, 3198, 3204, 3165, 3162, 3145, 3163,\n",
       "       3195, 3197, 3196, 3169, 3202, 3194, 3148, 3168, 3150, 3166, 3149,\n",
       "       3170, 3167, 3936, 3926, 3911, 3918, 3942, 3939, 3919, 3929, 3915,\n",
       "       3920, 3928, 3916, 3933, 3931, 3930, 3934, 3944, 3937, 3940, 3941,\n",
       "       3927, 3943, 3913, 3143, 3144, 3181, 3142, 3020, 3022, 3023, 3037,\n",
       "       3030, 3021, 3038, 3018, 3028, 3025, 3015, 3016, 3019, 3011, 3012,\n",
       "       3013, 3338, 3427, 3337, 3335, 3029, 3026, 3024], dtype=int64)"
      ]
     },
     "execution_count": 67,
     "metadata": {},
     "output_type": "execute_result"
    }
   ],
   "source": [
    "postcode"
   ]
  },
  {
   "cell_type": "code",
   "execution_count": 5,
   "metadata": {
    "collapsed": false
   },
   "outputs": [],
   "source": [
    "headers = {'Host': 'services.realestate.com.au',\n",
    "           'If-None-Match': \"0e507a419ac36ae54fe71176dca72a3fe-gzip\",\n",
    "           'Accept-Encoding': 'gzip, deflate',\n",
    "           'Accept': '*/*',\n",
    "           'Cookie': '_readc=EQX; Hint=apse2e14; mid=6728659632990425927; reauid=8e8f1dcb795d0000527d225aaf030000312d0500',\n",
    "           'Accept-Language': 'en-US;q=1',\n",
    "           'Connection': 'keep-alive',\n",
    "           'User-Agent': 'realestate.com.au/3.19.0 (iPad; iOS 10.3.3; Scale/2.00)'\n",
    "        }"
   ]
  },
  {
   "cell_type": "code",
   "execution_count": 69,
   "metadata": {
    "collapsed": true
   },
   "outputs": [],
   "source": [
    "for post_item in postcode:\n",
    "    for i in range(1, 41):\n",
    "        url = 'https://services.realestate.com.au/services/listings/search?query={\"channel\":\"sold\",\"localities\":[{\"locality\":\"\",\"subdivision\":\"VIC\",\"postcode\":\"' + str(post_item) + '\"}],\"pageSize\":\"100\",\"page\":\"' + str(i) + '\",\"filters\":{\"surroundingSuburbs\":false}}'\n",
    "        try:\n",
    "            data = requests.get(url, headers=headers).json()\n",
    "        except(requests.exceptions.ConnectionError, requests.exceptions.HTTPError, requests.exceptions.ConnectTimeout):\n",
    "            print(\"Connection Error, Quit\")\n",
    "        for item in data['tieredResults'][0]['results']:\n",
    "            listingId = item['listingId']\n",
    "            desc = item['description']\n",
    "            agency = item['agency']['name']\n",
    "            price = item['price']['display']\n",
    "            dateSold = item['dateSold']['value']\n",
    "            streetAddress = item['address']['streetAddress']\n",
    "            postcode = item['address']['postcode']\n",
    "            locality = item['address']['locality']\n",
    "            latitude = item['address']['location']['latitude']\n",
    "            longitude = item['address']['location']['longitude']\n",
    "            landSizeValue = item['landSize']['value']\n",
    "            landSizeUnit = item['landSize']['unit']\n",
    "            bedrooms = item['features']['general']['bedrooms']\n",
    "            bathrooms = item['features']['general']['bathrooms']\n",
    "            parkingSpaces = item['features']['general']['parkingSpaces']\n",
    "            propertyType = item['propertyType']\n",
    "                write_result(listingId, desc, agency, price, dateSold, streetAddress, postcode, locality, latitude, longitude, landSizeValue, landSizeUnit, bedrooms, bathrooms, parkingSpaces, propertyType)\n",
    "            time.sleep(np.random.rand()*5)"
   ]
  },
  {
   "cell_type": "code",
   "execution_count": 78,
   "metadata": {
    "collapsed": false
   },
   "outputs": [],
   "source": [
    "url = 'https://services.realestate.com.au/services/listings/search?query={\"channel\":\"sold\",\"localities\":[{\"locality\":\"\",\"subdivision\":\"VIC\",\"postcode\":\"' + str(postcode[0]) + '\"}],\"pageSize\":\"100\",\"page\":\"' + str(i) + '\",\"filters\":{\"surroundingSuburbs\":false}}'"
   ]
  },
  {
   "cell_type": "code",
   "execution_count": 79,
   "metadata": {
    "collapsed": false
   },
   "outputs": [
    {
     "name": "stdout",
     "output_type": "stream",
     "text": [
      "https://services.realestate.com.au/services/listings/search?query={\"channel\":\"sold\",\"localities\":[{\"locality\":\"\",\"subdivision\":\"VIC\",\"postcode\":\"3053\"}],\"pageSize\":\"100\",\"page\":\"1\",\"filters\":{\"surroundingSuburbs\":false}}\n"
     ]
    }
   ],
   "source": [
    "print(url)"
   ]
  },
  {
   "cell_type": "code",
   "execution_count": 80,
   "metadata": {
    "collapsed": true
   },
   "outputs": [],
   "source": [
    "# url = \"\"\"https://services.realestate.com.au/services/listings/search?query={\"channel\":\"sold\",\"localities\":[{\"locality\":\"\",\"subdivision\":\"VIC\",\"postcode\":\"3095\"}],\"pageSize\":\"100\",\"page\":\"1\",\"filters\":{\"surroundingSuburbs\":false}}\"\"\""
   ]
  },
  {
   "cell_type": "code",
   "execution_count": 81,
   "metadata": {
    "collapsed": true
   },
   "outputs": [],
   "source": [
    "data = requests.get(url, headers=headers).json()"
   ]
  },
  {
   "cell_type": "code",
   "execution_count": 82,
   "metadata": {
    "collapsed": false
   },
   "outputs": [
    {
     "data": {
      "text/plain": [
       "100"
      ]
     },
     "execution_count": 82,
     "metadata": {},
     "output_type": "execute_result"
    }
   ],
   "source": [
    "len(data['tieredResults'][0]['results'])"
   ]
  },
  {
   "cell_type": "code",
   "execution_count": 83,
   "metadata": {
    "collapsed": false
   },
   "outputs": [
    {
     "data": {
      "text/plain": [
       "{'_links': {'adCall': {'href': 'https://sasinator.realestate.com.au/rea/hserver/site=rea/area=sold.details/proptype=house/constructionStatus=established/sub=carlton/state=vic/pcode=3053/price=5m/platform={platform}/version={version}/pos={position}/size={size}/viewid={viewId}/random={random}',\n",
       "   'templated': True},\n",
       "  'contactAgent': {'href': 'https://agent-contact.resi-agent.realestate.com.au/contact-agent/listing/126846710'},\n",
       "  'googleMap': {'href': 'https://services.realestate.com.au/services/listings/126846710/map/static?width={width}&height={height}&scale={scale}',\n",
       "   'templated': True},\n",
       "  'marketInfo': {'href': 'https://investor-api.realestate.com.au/states/Vic/suburbs/Carlton.json'},\n",
       "  'nearbySchools': {'href': 'https://school-service.realestate.com.au/closest_by_type/?lat=-37.802106&lon=144.967754{&count}',\n",
       "   'templated': True},\n",
       "  'prettyUrl': {'href': 'https://www.realestate.com.au/sold/property-house-vic-carlton-126846710'},\n",
       "  'self': {'href': 'https://services.realestate.com.au/services/listings/126846710'},\n",
       "  'short': {'href': 'http://www.realestate.com.au/126846710'}},\n",
       " 'address': {'locality': 'Carlton',\n",
       "  'location': {'latitude': -37.802106, 'longitude': 144.967754},\n",
       "  'postCode': '3053',\n",
       "  'postcode': '3053',\n",
       "  'showAddress': True,\n",
       "  'state': 'Vic',\n",
       "  'streetAddress': '179 Drummond Street',\n",
       "  'subdivisionCode': 'Vic',\n",
       "  'suburb': 'Carlton'},\n",
       " 'advertising': {'priceRange': '5m',\n",
       "  'region': 'melbourne_city___greater_region'},\n",
       " 'agency': {'_links': {'agencyProfile': {'href': 'https://www.realestate.com.au/agency/nelson-alexander-carlton-north-XNXCAR'},\n",
       "   'agencyProfileWebview': {'href': 'https://www.realestate.com.au/agency/nelson-alexander-carlton-north-XNXCAR?template=webview'}},\n",
       "  'address': {'postcode': '3054',\n",
       "   'state': 'Vic',\n",
       "   'streetAddress': '404 Rathdowne Street',\n",
       "   'suburb': 'Carlton North'},\n",
       "  'agencyId': 'XNXCAR',\n",
       "  'branded': True,\n",
       "  'brandingColors': {'primary': '#1e0f14',\n",
       "   'secondary': '#ff3224',\n",
       "   'text': '#ffffff'},\n",
       "  'email': 'reallistingcarlton@nelsonalexander.com.au',\n",
       "  'logo': {'images': [{'name': 'small',\n",
       "     'server': 'https://i2.au.reastatic.net',\n",
       "     'uri': '/agencylogo/XNXCAR/11/20170504163145.gif'},\n",
       "    {'name': 'default',\n",
       "     'server': 'https://i2.au.reastatic.net',\n",
       "     'uri': '/agencylogo/XNXCAR/2/20170504163145.gif'},\n",
       "    {'name': 'large',\n",
       "     'server': 'https://i2.au.reastatic.net',\n",
       "     'uri': '/agencylogo/XNXCAR/12/20170504163145.gif'}],\n",
       "   'links': {'default': '/agencylogo/XNXCAR/2/20170504163145.gif',\n",
       "    'large': '/agencylogo/XNXCAR/12/20170504163145.gif',\n",
       "    'small': '/agencylogo/XNXCAR/11/20170504163145.gif'}},\n",
       "  'name': 'Nelson Alexander - Carlton North',\n",
       "  'phoneNumber': '03 9347 4322',\n",
       "  'website': 'http://www.nelsonalexander.com.au/?utm_medium=aggs'},\n",
       " 'calculator': {'_links': {'callToAction': {'href': 'https://visualidentity.cachefly.net/realestate.com.au.calculators.vi.com.au/all-brands/au/com/vi/app/html/index.html?calculator=sold&sponsor=rea&premiumProperty=true&postcode=3053&suburb=Carlton&state=Vic&channel=sold&displayPrice=$5,460,000'}},\n",
       "  'brandingColors': {'primary': '#ffffff', 'text': '#e4002b'},\n",
       "  'subtitle': 'Calculate repayments for this property',\n",
       "  'title': 'Mortgage Calculator'},\n",
       " 'channel': 'sold',\n",
       " 'classicProject': False,\n",
       " 'constructionStatus': 'established',\n",
       " 'dateSold': {'display': '25 Nov 2017', 'value': '2017-11-25'},\n",
       " 'description': \"This historic balcony terrace (circa 1865), boasting grand proportions and a 4-car underground garage, has been comprehensively renovated & extended offering an amazingly sophisticated & light-filled family living environment in the prime central Carlton precinct, minutes from the CBD and Lygon Street. Set behind a parterre garden, this remarkable home opens from a tiled verandah to a wide reception hall, leading off to superbly proportioned sitting and dining rooms. A seamless high-ceilinged extension incorporates a dramatic dining area with glazed ceiling and central courtyard plus an informal living room, open to a bespoke kitchen (Miele/Barazza appliances and custom cabinetry) with dumb waiter and adjoining butler's pantry. Flowing through tall iron-framed doors is a European-style entertaining courtyard leading to a separate studio/guest bedroom with kitchenette & ensuite. Staircases to front and rear ascend to the master balcony bedroom with spectacular ensuite and dressing room, two further ensuite double bedrooms and a mezzanine study/library. Including a powder room, large laundry, cellar and 4-car garage entered from Ormond Place. Other features include polished oak floors, gas log open fireplaces, zoned air conditioning and underfloor heating, intercom security and premium inclusions throughout. One of the area's finest homes in a blue-chip location. Nelson Alexander Pty Ltd.<br/><br/><br/>\",\n",
       " 'featured': False,\n",
       " 'features': {'general': {'bathrooms': 4, 'bedrooms': 4, 'parkingSpaces': 4}},\n",
       " 'generalFeatures': {'bathrooms': {'label': 'Bathrooms: 4',\n",
       "   'type': 'bathrooms',\n",
       "   'value': 4},\n",
       "  'bedrooms': {'label': 'Bedrooms: 4', 'type': 'bedrooms', 'value': 4},\n",
       "  'parkingSpaces': {'label': 'Parking Spaces: 4',\n",
       "   'type': 'parkingSpaces',\n",
       "   'value': 4}},\n",
       " 'images': [{'name': 'photo',\n",
       "   'server': 'https://i2.au.reastatic.net',\n",
       "   'uri': '/b3b948114b5e38ab37c29defade171d8393507a58136e31f644d5ceec66e869c/image2.jpg'},\n",
       "  {'name': 'photo',\n",
       "   'server': 'https://i2.au.reastatic.net',\n",
       "   'uri': '/5fa103c43e961686ad21a8098e713f24f28b86112c0639282171cecb823d5766/image3.jpg'},\n",
       "  {'name': 'photo',\n",
       "   'server': 'https://i2.au.reastatic.net',\n",
       "   'uri': '/ccd7135d5e56de07c8900e172a8a2ba087c225b5b3ee7dacf2ef121a4160420a/image4.jpg'},\n",
       "  {'name': 'photo',\n",
       "   'server': 'https://i2.au.reastatic.net',\n",
       "   'uri': '/26b091887099de7cd7b0765e7c1bd34da1e15cb730a29366191d97f70e3dba1f/image5.jpg'},\n",
       "  {'name': 'photo',\n",
       "   'server': 'https://i2.au.reastatic.net',\n",
       "   'uri': '/191156b3d1327349956dc7492cd82b6f7fd7698d3afd99a631dfbca2d97a66fa/image6.jpg'},\n",
       "  {'name': 'photo',\n",
       "   'server': 'https://i2.au.reastatic.net',\n",
       "   'uri': '/ce3546ecbd1be9b7610a6373b4196c61c2bd5b6a9655d4b7a37effb0a9a005eb/image7.jpg'},\n",
       "  {'name': 'photo',\n",
       "   'server': 'https://i2.au.reastatic.net',\n",
       "   'uri': '/75817417d270250343de9810c447f919b1033a669cb17fc07deff9b59e850aca/image8.jpg'},\n",
       "  {'name': 'photo',\n",
       "   'server': 'https://i2.au.reastatic.net',\n",
       "   'uri': '/3bacdc71eaa803b5dc80699838bd2389a74375bb79a7265e31bd8e32a5de6e93/image9.jpg'},\n",
       "  {'name': 'photo',\n",
       "   'server': 'https://i2.au.reastatic.net',\n",
       "   'uri': '/24a740e3cf2a8d6d590c475a60d964ed110b6809383060b362d385697ec846ad/image10.jpg'},\n",
       "  {'name': 'photo',\n",
       "   'server': 'https://i2.au.reastatic.net',\n",
       "   'uri': '/3ca35416982548fcac5750f91dda3416fff7ffe4a4a0d83345894adca08aeb2f/image11.jpg'},\n",
       "  {'name': 'photo',\n",
       "   'server': 'https://i2.au.reastatic.net',\n",
       "   'uri': '/da45ad33f969d49d5486f0ea029b43e1c477ceb37a092f4a251c17671e9c4c35/image12.jpg'},\n",
       "  {'name': 'photo',\n",
       "   'server': 'https://i2.au.reastatic.net',\n",
       "   'uri': '/d9295496aa2d21adee61e424bcf92677f2d096e4aa84c18b26856b530d2860f3/image13.jpg'},\n",
       "  {'name': 'photo',\n",
       "   'server': 'https://i2.au.reastatic.net',\n",
       "   'uri': '/f17fb16131548f1a075c1e5f86da04a40113e4146261b12444b0580187e4312b/image14.jpg'},\n",
       "  {'name': 'photo',\n",
       "   'server': 'https://i2.au.reastatic.net',\n",
       "   'uri': '/64cbb2ad15af5d30243c6f91f19855b91d84d943e3941c09e863435b904438bb/image15.jpg'},\n",
       "  {'name': 'photo',\n",
       "   'server': 'https://i2.au.reastatic.net',\n",
       "   'uri': '/622ed9e6f51d67c09c0099b94ddb1818e2b2991e28c6457ea09289c9b859efd4/image16.jpg'},\n",
       "  {'name': 'photo',\n",
       "   'server': 'https://i2.au.reastatic.net',\n",
       "   'uri': '/1caf4b7b2c0edf58e19b1f72edc1a6c8b521caeba7aaf65173f31c329295f336/image17.jpg'},\n",
       "  {'name': 'photo',\n",
       "   'server': 'https://i2.au.reastatic.net',\n",
       "   'uri': '/f1266c9cf7032b05056381d2aac9f2278d7e1ae83ab2b912b827e2058b7ec3bf/image18.jpg'},\n",
       "  {'name': 'floorplan',\n",
       "   'resize': True,\n",
       "   'server': 'https://i2.au.reastatic.net',\n",
       "   'uri': '/a49165d07902d8095b9a68e8d36e357a281a72bf0ee2905798dec800cdac9da3/floorplan1.jpg'}],\n",
       " 'isBuyChannel': False,\n",
       " 'isRentChannel': False,\n",
       " 'isSoldChannel': True,\n",
       " 'lister': {'_links': {'agentProfile': {'href': 'https://www.realestate.com.au/agent/310551'},\n",
       "   'agentProfileWebview': {'href': 'https://www.realestate.com.au/agent/webview/310551'}},\n",
       "  'email': 'jkeenan@nelsonalexander.com.au,james.63@nelson-alexander.m.boxdice.com.au',\n",
       "  'mainPhoto': {'name': 'main photo',\n",
       "   'server': 'https://i2.au.reastatic.net',\n",
       "   'uri': '/df77f1b86ed71a996d0311ce037176fe48b935b58666e8d720fb0feccf06c355/main.jpg'},\n",
       "  'mobilePhoneNumber': '0418 580 620',\n",
       "  'name': 'James Keenan',\n",
       "  'phoneNumber': '0418 580 620',\n",
       "  'website': 'http://www.nelsonalexander.com.au/?utm_medium=aggs'},\n",
       " 'listers': [{'_links': {'agentProfile': {'href': 'https://www.realestate.com.au/agent/310551'},\n",
       "    'agentProfileWebview': {'href': 'https://www.realestate.com.au/agent/webview/310551'}},\n",
       "   'email': 'jkeenan@nelsonalexander.com.au,james.63@nelson-alexander.m.boxdice.com.au',\n",
       "   'mainPhoto': {'name': 'main photo',\n",
       "    'server': 'https://i2.au.reastatic.net',\n",
       "    'uri': '/df77f1b86ed71a996d0311ce037176fe48b935b58666e8d720fb0feccf06c355/main.jpg'},\n",
       "   'mobilePhoneNumber': '0418 580 620',\n",
       "   'name': 'James Keenan',\n",
       "   'phoneNumber': '0418 580 620',\n",
       "   'website': 'http://www.nelsonalexander.com.au/?utm_medium=aggs'},\n",
       "  {'_links': {'agentProfile': {'href': 'https://www.realestate.com.au/agent/319411'},\n",
       "    'agentProfileWebview': {'href': 'https://www.realestate.com.au/agent/webview/319411'}},\n",
       "   'email': 'nwest@nelsonalexander.com.au,nicholas.14@nelson-alexander.m.boxdice.com.au',\n",
       "   'mainPhoto': {'name': 'main photo',\n",
       "    'server': 'https://i2.au.reastatic.net',\n",
       "    'uri': '/53d7b99a9d24de823faedc753bc58e6b8c6214012486672e51ccbcffbd5b5f3e/main.jpg'},\n",
       "   'mobilePhoneNumber': '0418 559 494',\n",
       "   'name': 'Nicholas West',\n",
       "   'phoneNumber': '0418 559 494',\n",
       "   'website': 'http://www.nelsonalexander.com.au/?utm_medium=aggs'}],\n",
       " 'listingId': '126846710',\n",
       " 'mainImage': {'name': 'main photo',\n",
       "  'server': 'https://i2.au.reastatic.net',\n",
       "  'uri': '/3a66f95155b04f1949bb87c87f6b71ada86598a32a1a47b8e5016a92c1858b63/main.jpg'},\n",
       " 'midtier': False,\n",
       " 'modifiedDate': {'value': '2017-12-01T13:56:16Z'},\n",
       " 'prettyUrl': 'sold/property-house-vic-carlton-126846710',\n",
       " 'price': {'abbreviated': '5.46M', 'display': '$5,460,000'},\n",
       " 'productDepth': 'signature',\n",
       " 'propertyId': '4352455',\n",
       " 'propertyType': 'house',\n",
       " 'showAgencyLogo': True,\n",
       " 'signature': True,\n",
       " 'signatureProject': False,\n",
       " 'standard': False,\n",
       " 'status': {'label': 'Sold', 'type': 'sold'},\n",
       " 'title': 'Italianate elegance: A renovation of special distinction'}"
      ]
     },
     "execution_count": 83,
     "metadata": {},
     "output_type": "execute_result"
    }
   ],
   "source": [
    "data['tieredResults'][0]['results'][0]"
   ]
  },
  {
   "cell_type": "code",
   "execution_count": 53,
   "metadata": {
    "collapsed": false
   },
   "outputs": [],
   "source": [
    "listingId = data['tieredResults'][0]['results'][0]['listingId']\n",
    "desc = data['tieredResults'][0]['results'][0]['description']\n",
    "agency = data['tieredResults'][0]['results'][0]['agency']['name']\n",
    "price = data['tieredResults'][0]['results'][0]['price']['display']\n",
    "dateSold = data['tieredResults'][0]['results'][0]['dateSold']['value']\n",
    "streetAddress = data['tieredResults'][0]['results'][0]['address']['streetAddress']\n",
    "postcode = data['tieredResults'][0]['results'][0]['address']['postcode']\n",
    "locality = data['tieredResults'][0]['results'][0]['address']['locality']\n",
    "latitude = data['tieredResults'][0]['results'][0]['address']['location']['latitude']\n",
    "longitude = data['tieredResults'][0]['results'][0]['address']['location']['longitude']\n",
    "landSizeValue = data['tieredResults'][0]['results'][0]['landSize']['value']\n",
    "landSizeUnit = data['tieredResults'][0]['results'][0]['landSize']['unit']\n",
    "bedrooms = data['tieredResults'][0]['results'][0]['features']['general']['bedrooms']\n",
    "bathrooms = data['tieredResults'][0]['results'][0]['features']['general']['bathrooms']\n",
    "parkingSpaces = data['tieredResults'][0]['results'][0]['features']['general']['parkingSpaces']\n",
    "propertyType = data['tieredResults'][0]['results'][0]['propertyType']\n"
   ]
  },
  {
   "cell_type": "code",
   "execution_count": 54,
   "metadata": {
    "collapsed": false
   },
   "outputs": [
    {
     "data": {
      "text/plain": [
       "'house'"
      ]
     },
     "execution_count": 54,
     "metadata": {},
     "output_type": "execute_result"
    }
   ],
   "source": [
    "data['tieredResults'][0]['results'][0]['propertyType']"
   ]
  },
  {
   "cell_type": "code",
   "execution_count": 56,
   "metadata": {
    "collapsed": true
   },
   "outputs": [],
   "source": [
    "with open('data.txt', 'w') as outfile:\n",
    "    json.dump(data, outfile)"
   ]
  },
  {
   "cell_type": "code",
   "execution_count": null,
   "metadata": {
    "collapsed": true
   },
   "outputs": [],
   "source": []
  }
 ],
 "metadata": {
  "kernelspec": {
   "display_name": "Python 3",
   "language": "python",
   "name": "python3"
  },
  "language_info": {
   "codemirror_mode": {
    "name": "ipython",
    "version": 3
   },
   "file_extension": ".py",
   "mimetype": "text/x-python",
   "name": "python",
   "nbconvert_exporter": "python",
   "pygments_lexer": "ipython3",
   "version": "3.6.0"
  }
 },
 "nbformat": 4,
 "nbformat_minor": 2
}
