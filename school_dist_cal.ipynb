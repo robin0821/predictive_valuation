{
 "cells": [
  {
   "cell_type": "code",
   "execution_count": 1,
   "metadata": {
    "collapsed": true
   },
   "outputs": [],
   "source": [
    "import pandas as pd\n",
    "from geopy.distance import vincenty\n",
    "from openpyxl import load_workbook"
   ]
  },
  {
   "cell_type": "code",
   "execution_count": 2,
   "metadata": {
    "collapsed": true
   },
   "outputs": [],
   "source": [
    "primary = pd.read_excel(\"./Primary.xlsx\", sheetname='Sheet1')"
   ]
  },
  {
   "cell_type": "code",
   "execution_count": 3,
   "metadata": {
    "collapsed": false
   },
   "outputs": [],
   "source": [
    "secondary = pd.read_excel(\"./secondary.xlsx\", sheetname='Sheet1')"
   ]
  },
  {
   "cell_type": "code",
   "execution_count": 4,
   "metadata": {
    "collapsed": true
   },
   "outputs": [],
   "source": [
    "wb = load_workbook(filename = 'real_estate_mel_cln.xlsx')\n",
    "ws = wb.get_sheet_by_name('Sheet1')"
   ]
  },
  {
   "cell_type": "code",
   "execution_count": 5,
   "metadata": {
    "collapsed": true
   },
   "outputs": [],
   "source": [
    "prop_lat = ws['H' + str(2)].value\n",
    "prop_long = ws['I' + str(2)].value\n",
    "prop_loc = (prop_lat, prop_long)"
   ]
  },
  {
   "cell_type": "code",
   "execution_count": 29,
   "metadata": {
    "collapsed": false,
    "scrolled": true
   },
   "outputs": [],
   "source": [
    "distance = []\n",
    "for i in primary.index:\n",
    "    sch_lat = primary.Latitude[i]\n",
    "    sch_long = primary.Longitude[i]\n",
    "    sch_loc = (sch_lat, sch_long)\n",
    "    dist = vincenty(prop_loc, sch_loc).meters\n",
    "    distance.append(dist)\n",
    "\n",
    "primary['distance'] = distance\n",
    "a = primary.nsmallest(3, 'distance').index\n",
    "ws['Q' + str(2)].value = primary.SchoolName[a[0]]\n",
    "ws['R' + str(2)].value = primary.Sector[a[0]]\n",
    "ws['S' + str(2)].value = primary.distance[a[0]]\n",
    "ws['T' + str(2)].value = primary.Score[a[0]]\n",
    "ws['U' + str(2)].value = primary.SchoolName[a[1]]\n",
    "ws['V' + str(2)].value = primary.Sector[a[1]]\n",
    "ws['W' + str(2)].value = primary.distance[a[1]]\n",
    "ws['X' + str(2)].value = primary.Score[a[1]]\n",
    "ws['Y' + str(2)].value = primary.SchoolName[a[2]]\n",
    "ws['Z' + str(2)].value = primary.Sector[a[2]]\n",
    "ws['AA' + str(2)].value = primary.distance[a[2]]\n",
    "ws['AB' + str(2)].value = primary.Score[a[2]]"
   ]
  },
  {
   "cell_type": "code",
   "execution_count": 30,
   "metadata": {
    "collapsed": false
   },
   "outputs": [
    {
     "data": {
      "text/plain": [
       "89"
      ]
     },
     "execution_count": 30,
     "metadata": {},
     "output_type": "execute_result"
    }
   ],
   "source": [
    "ws['Q' + str(2)].value\n",
    "ws['R' + str(2)].value\n",
    "ws['S' + str(2)].value\n",
    "ws['T' + str(2)].value\n",
    "ws['U' + str(2)].value\n",
    "ws['V' + str(2)].value\n",
    "ws['W' + str(2)].value\n",
    "ws['X' + str(2)].value\n",
    "ws['Y' + str(2)].value\n",
    "ws['Z' + str(2)].value\n",
    "ws['AA' + str(2)].value\n",
    "ws['AB' + str(2)].value "
   ]
  },
  {
   "cell_type": "code",
   "execution_count": 31,
   "metadata": {
    "collapsed": false
   },
   "outputs": [
    {
     "data": {
      "text/plain": [
       "'Lilydale Primary School'"
      ]
     },
     "execution_count": 31,
     "metadata": {},
     "output_type": "execute_result"
    }
   ],
   "source": [
    "ws['Q' + str(2)].value"
   ]
  },
  {
   "cell_type": "code",
   "execution_count": 22,
   "metadata": {
    "collapsed": false
   },
   "outputs": [],
   "source": [
    "a = primary.nsmallest(3, 'distance').index"
   ]
  },
  {
   "cell_type": "code",
   "execution_count": 25,
   "metadata": {
    "collapsed": false
   },
   "outputs": [
    {
     "data": {
      "text/plain": [
       "1587.1850437190644"
      ]
     },
     "execution_count": 25,
     "metadata": {},
     "output_type": "execute_result"
    }
   ],
   "source": [
    "primary['distance'][a[0]]"
   ]
  },
  {
   "cell_type": "code",
   "execution_count": null,
   "metadata": {
    "collapsed": true
   },
   "outputs": [],
   "source": []
  },
  {
   "cell_type": "code",
   "execution_count": 13,
   "metadata": {
    "collapsed": false,
    "scrolled": true
   },
   "outputs": [
    {
     "data": {
      "text/html": [
       "<div>\n",
       "<table border=\"1\" class=\"dataframe\">\n",
       "  <thead>\n",
       "    <tr style=\"text-align: right;\">\n",
       "      <th></th>\n",
       "      <th>SchoolName</th>\n",
       "      <th>URL</th>\n",
       "      <th>Sector</th>\n",
       "      <th>Year_Range</th>\n",
       "      <th>Type</th>\n",
       "      <th>Address</th>\n",
       "      <th>Suburb</th>\n",
       "      <th>State</th>\n",
       "      <th>Postcode</th>\n",
       "      <th>Latitude</th>\n",
       "      <th>Longitude</th>\n",
       "      <th>Score</th>\n",
       "      <th>sch_loc</th>\n",
       "      <th>distance</th>\n",
       "    </tr>\n",
       "  </thead>\n",
       "  <tbody>\n",
       "    <tr>\n",
       "      <th>0</th>\n",
       "      <td>Box Hill Senior Secondary College</td>\n",
       "      <td>http://www.bhssc.vic.edu.au</td>\n",
       "      <td>Government</td>\n",
       "      <td>42898</td>\n",
       "      <td>Combined</td>\n",
       "      <td>DUNLOE AVENUE</td>\n",
       "      <td>MONT ALBERT NORTH</td>\n",
       "      <td>VIC</td>\n",
       "      <td>3129</td>\n",
       "      <td>-37.810060</td>\n",
       "      <td>145.112651</td>\n",
       "      <td>86</td>\n",
       "      <td>a</td>\n",
       "      <td>23635.316203</td>\n",
       "    </tr>\n",
       "    <tr>\n",
       "      <th>1</th>\n",
       "      <td>Hazel Glen College</td>\n",
       "      <td>http://www.hgc.vic.edu.au/</td>\n",
       "      <td>Government</td>\n",
       "      <td>K-12</td>\n",
       "      <td>Combined</td>\n",
       "      <td>115 Eminence Blvd</td>\n",
       "      <td>Doreen</td>\n",
       "      <td>VIC</td>\n",
       "      <td>3754</td>\n",
       "      <td>-37.597586</td>\n",
       "      <td>145.119989</td>\n",
       "      <td>70</td>\n",
       "      <td>a</td>\n",
       "      <td>28257.353810</td>\n",
       "    </tr>\n",
       "    <tr>\n",
       "      <th>2</th>\n",
       "      <td>Manor Lakes P-12 College</td>\n",
       "      <td>http://www.manorlakesp12.vic.edu.au</td>\n",
       "      <td>Government</td>\n",
       "      <td>Prep-11</td>\n",
       "      <td>Combined</td>\n",
       "      <td>2-50 MININDEE ROAD</td>\n",
       "      <td>WYNDHAM VALE</td>\n",
       "      <td>VIC</td>\n",
       "      <td>3024</td>\n",
       "      <td>-37.874360</td>\n",
       "      <td>144.603104</td>\n",
       "      <td>66</td>\n",
       "      <td>a</td>\n",
       "      <td>68972.428578</td>\n",
       "    </tr>\n",
       "    <tr>\n",
       "      <th>3</th>\n",
       "      <td>Sherbrooke Community School</td>\n",
       "      <td>http://www.sherbrooke.vic.edu.au</td>\n",
       "      <td>Government</td>\n",
       "      <td>Prep-12</td>\n",
       "      <td>Combined</td>\n",
       "      <td>311 MT DANDENONG TOURIST ROAD</td>\n",
       "      <td>SASSAFRAS</td>\n",
       "      <td>VIC</td>\n",
       "      <td>3787</td>\n",
       "      <td>-37.867846</td>\n",
       "      <td>145.349311</td>\n",
       "      <td>67</td>\n",
       "      <td>a</td>\n",
       "      <td>12688.488549</td>\n",
       "    </tr>\n",
       "    <tr>\n",
       "      <th>4</th>\n",
       "      <td>Boronia K-12 College</td>\n",
       "      <td>http://www.BoroniaK-12.vic.edu.au</td>\n",
       "      <td>Government</td>\n",
       "      <td>Prep-12</td>\n",
       "      <td>Combined</td>\n",
       "      <td>RANGEVIEW ROAD</td>\n",
       "      <td>BORONIA</td>\n",
       "      <td>VIC</td>\n",
       "      <td>3155</td>\n",
       "      <td>-37.858473</td>\n",
       "      <td>145.289726</td>\n",
       "      <td>69</td>\n",
       "      <td>a</td>\n",
       "      <td>13576.729053</td>\n",
       "    </tr>\n",
       "  </tbody>\n",
       "</table>\n",
       "</div>"
      ],
      "text/plain": [
       "                          SchoolName                                  URL  \\\n",
       "0  Box Hill Senior Secondary College          http://www.bhssc.vic.edu.au   \n",
       "1                 Hazel Glen College           http://www.hgc.vic.edu.au/   \n",
       "2           Manor Lakes P-12 College  http://www.manorlakesp12.vic.edu.au   \n",
       "3        Sherbrooke Community School     http://www.sherbrooke.vic.edu.au   \n",
       "4               Boronia K-12 College    http://www.BoroniaK-12.vic.edu.au   \n",
       "\n",
       "       Sector Year_Range      Type                        Address  \\\n",
       "0  Government      42898  Combined                  DUNLOE AVENUE   \n",
       "1  Government       K-12  Combined              115 Eminence Blvd   \n",
       "2  Government    Prep-11  Combined             2-50 MININDEE ROAD   \n",
       "3  Government    Prep-12  Combined  311 MT DANDENONG TOURIST ROAD   \n",
       "4  Government    Prep-12  Combined                 RANGEVIEW ROAD   \n",
       "\n",
       "              Suburb State  Postcode   Latitude   Longitude  Score sch_loc  \\\n",
       "0  MONT ALBERT NORTH   VIC      3129 -37.810060  145.112651     86       a   \n",
       "1             Doreen   VIC      3754 -37.597586  145.119989     70       a   \n",
       "2       WYNDHAM VALE   VIC      3024 -37.874360  144.603104     66       a   \n",
       "3          SASSAFRAS   VIC      3787 -37.867846  145.349311     67       a   \n",
       "4            BORONIA   VIC      3155 -37.858473  145.289726     69       a   \n",
       "\n",
       "       distance  \n",
       "0  23635.316203  \n",
       "1  28257.353810  \n",
       "2  68972.428578  \n",
       "3  12688.488549  \n",
       "4  13576.729053  "
      ]
     },
     "execution_count": 13,
     "metadata": {},
     "output_type": "execute_result"
    }
   ],
   "source": [
    "primary.head()"
   ]
  },
  {
   "cell_type": "code",
   "execution_count": null,
   "metadata": {
    "collapsed": true
   },
   "outputs": [],
   "source": []
  }
 ],
 "metadata": {
  "kernelspec": {
   "display_name": "Python 3",
   "language": "python",
   "name": "python3"
  },
  "language_info": {
   "codemirror_mode": {
    "name": "ipython",
    "version": 3
   },
   "file_extension": ".py",
   "mimetype": "text/x-python",
   "name": "python",
   "nbconvert_exporter": "python",
   "pygments_lexer": "ipython3",
   "version": "3.6.0"
  }
 },
 "nbformat": 4,
 "nbformat_minor": 2
}
